{
 "cells": [
  {
   "cell_type": "markdown",
   "id": "a83ef5b8",
   "metadata": {},
   "source": [
    "# what is oop ?\n",
    "\n",
    "its does not unblocks anything which we dont have before and we do have multiple languages which does not support OOP's but still things can be achieved \n",
    "\n",
    "### OOP is just about how we structure things and organize things in code\n",
    "its general Human thing , as we classify and group the things . In same way we are structuring and organizing the code and naming as OOP's concept\n",
    "\n",
    "Its not a fundamental thing to do , to work something. even without this also things will work.\n",
    "\n",
    "   <p style=\"color:blue;\">This concept will be help full for \n",
    "   \n",
    "* breaking things (Instead of keeping the long files of code). organising the things in classes\n",
    "* logical grouping\n",
    "* code re-use abitity\n",
    "* etc...,"
   ]
  },
  {
   "cell_type": "markdown",
   "id": "f40f2316",
   "metadata": {},
   "source": [
    "## Defining classes and objects\n",
    "\n",
    "### **Class :** \n",
    "A blueprint for th object .Classes can contain methods(functions) and attributes(similar to keys in a dict)\n",
    "### **Instance :**\n",
    "Objects are constructed from a class blueprint that contain their class's methods and properties\n",
    "\n",
    "<p style=\"color:blue;\"> list is a built-in class in Python. However, classes are callable just like functions, and when called, classes instantiate and return objects, so you can pass a class as an argument where a function (or a callable to be precise) is expected."
   ]
  },
  {
   "cell_type": "code",
   "execution_count": 2,
   "id": "811a036a",
   "metadata": {},
   "outputs": [
    {
     "name": "stdout",
     "output_type": "stream",
     "text": [
      "Help on class list in module builtins:\n",
      "\n",
      "class list(object)\n",
      " |  list(iterable=(), /)\n",
      " |  \n",
      " |  Built-in mutable sequence.\n",
      " |  \n",
      " |  If no argument is given, the constructor creates a new empty list.\n",
      " |  The argument must be an iterable if specified.\n",
      " |  \n",
      " |  Methods defined here:\n",
      " |  \n",
      " |  __add__(self, value, /)\n",
      " |      Return self+value.\n",
      " |  \n",
      " |  __contains__(self, key, /)\n",
      " |      Return key in self.\n",
      " |  \n",
      " |  __delitem__(self, key, /)\n",
      " |      Delete self[key].\n",
      " |  \n",
      " |  __eq__(self, value, /)\n",
      " |      Return self==value.\n",
      " |  \n",
      " |  __ge__(self, value, /)\n",
      " |      Return self>=value.\n",
      " |  \n",
      " |  __getattribute__(self, name, /)\n",
      " |      Return getattr(self, name).\n",
      " |  \n",
      " |  __getitem__(...)\n",
      " |      x.__getitem__(y) <==> x[y]\n",
      " |  \n",
      " |  __gt__(self, value, /)\n",
      " |      Return self>value.\n",
      " |  \n",
      " |  __iadd__(self, value, /)\n",
      " |      Implement self+=value.\n",
      " |  \n",
      " |  __imul__(self, value, /)\n",
      " |      Implement self*=value.\n",
      " |  \n",
      " |  __init__(self, /, *args, **kwargs)\n",
      " |      Initialize self.  See help(type(self)) for accurate signature.\n",
      " |  \n",
      " |  __iter__(self, /)\n",
      " |      Implement iter(self).\n",
      " |  \n",
      " |  __le__(self, value, /)\n",
      " |      Return self<=value.\n",
      " |  \n",
      " |  __len__(self, /)\n",
      " |      Return len(self).\n",
      " |  \n",
      " |  __lt__(self, value, /)\n",
      " |      Return self<value.\n",
      " |  \n",
      " |  __mul__(self, value, /)\n",
      " |      Return self*value.\n",
      " |  \n",
      " |  __ne__(self, value, /)\n",
      " |      Return self!=value.\n",
      " |  \n",
      " |  __repr__(self, /)\n",
      " |      Return repr(self).\n",
      " |  \n",
      " |  __reversed__(self, /)\n",
      " |      Return a reverse iterator over the list.\n",
      " |  \n",
      " |  __rmul__(self, value, /)\n",
      " |      Return value*self.\n",
      " |  \n",
      " |  __setitem__(self, key, value, /)\n",
      " |      Set self[key] to value.\n",
      " |  \n",
      " |  __sizeof__(self, /)\n",
      " |      Return the size of the list in memory, in bytes.\n",
      " |  \n",
      " |  append(self, object, /)\n",
      " |      Append object to the end of the list.\n",
      " |  \n",
      " |  clear(self, /)\n",
      " |      Remove all items from list.\n",
      " |  \n",
      " |  copy(self, /)\n",
      " |      Return a shallow copy of the list.\n",
      " |  \n",
      " |  count(self, value, /)\n",
      " |      Return number of occurrences of value.\n",
      " |  \n",
      " |  extend(self, iterable, /)\n",
      " |      Extend list by appending elements from the iterable.\n",
      " |  \n",
      " |  index(self, value, start=0, stop=9223372036854775807, /)\n",
      " |      Return first index of value.\n",
      " |      \n",
      " |      Raises ValueError if the value is not present.\n",
      " |  \n",
      " |  insert(self, index, object, /)\n",
      " |      Insert object before index.\n",
      " |  \n",
      " |  pop(self, index=-1, /)\n",
      " |      Remove and return item at index (default last).\n",
      " |      \n",
      " |      Raises IndexError if list is empty or index is out of range.\n",
      " |  \n",
      " |  remove(self, value, /)\n",
      " |      Remove first occurrence of value.\n",
      " |      \n",
      " |      Raises ValueError if the value is not present.\n",
      " |  \n",
      " |  reverse(self, /)\n",
      " |      Reverse *IN PLACE*.\n",
      " |  \n",
      " |  sort(self, /, *, key=None, reverse=False)\n",
      " |      Sort the list in ascending order and return None.\n",
      " |      \n",
      " |      The sort is in-place (i.e. the list itself is modified) and stable (i.e. the\n",
      " |      order of two equal elements is maintained).\n",
      " |      \n",
      " |      If a key function is given, apply it once to each list item and sort them,\n",
      " |      ascending or descending, according to their function values.\n",
      " |      \n",
      " |      The reverse flag can be set to sort in descending order.\n",
      " |  \n",
      " |  ----------------------------------------------------------------------\n",
      " |  Class methods defined here:\n",
      " |  \n",
      " |  __class_getitem__(...) from builtins.type\n",
      " |      See PEP 585\n",
      " |  \n",
      " |  ----------------------------------------------------------------------\n",
      " |  Static methods defined here:\n",
      " |  \n",
      " |  __new__(*args, **kwargs) from builtins.type\n",
      " |      Create and return a new object.  See help(type) for accurate signature.\n",
      " |  \n",
      " |  ----------------------------------------------------------------------\n",
      " |  Data and other attributes defined here:\n",
      " |  \n",
      " |  __hash__ = None\n",
      "\n"
     ]
    }
   ],
   "source": [
    "#\n",
    "help(list)"
   ]
  },
  {
   "cell_type": "markdown",
   "id": "ab4043fe",
   "metadata": {},
   "source": [
    "### Encapsulation \n",
    "the grouping of Public and private attributes and methods into a programmatic class , making **abstraction** possible."
   ]
  },
  {
   "cell_type": "markdown",
   "id": "0ed01546",
   "metadata": {},
   "source": [
    "### Abstraction: \n",
    "Exposing only \"relevent\" data in a class interface , hiding private attributes and methods(aka the \"inner workings\") from the users."
   ]
  },
  {
   "cell_type": "code",
   "execution_count": 1,
   "id": "0da81053",
   "metadata": {},
   "outputs": [
    {
     "name": "stdout",
     "output_type": "stream",
     "text": [
      "<__main__.User object at 0x0000020023FDDC10>\n",
      "<__main__.User object at 0x0000020023FDDC70>\n"
     ]
    }
   ],
   "source": [
    "#DEFINING THE SIMPLEST POSSIBLE CLASS\n",
    "\n",
    "class User:\n",
    "    pass\n",
    "\n",
    "user1=User()# here we are instantiating the instance which is we are creating \"oblects\" \n",
    "user2=User()# here we are instantiating the instance which is we are creating \"oblects\"\n",
    "user3=User()# here we are instantiating the instance which is we are creating \"oblects\"\n",
    "user4=User()# here we are instantiating the instance which is we are creating \"oblects\"\n",
    "\n",
    "print(user1)\n",
    "print(user2)"
   ]
  },
  {
   "cell_type": "markdown",
   "id": "dc5965d7",
   "metadata": {},
   "source": [
    "   ## The __init__ method\n",
    " \n",
    " by default Python will call the '\\__init__\\' method when ever you call the class \n",
    " \n",
    " **classes in python can have a special '\\__init__\\' method, which gets called every time you craete an instance of the class.**"
   ]
  },
  {
   "cell_type": "markdown",
   "id": "c0252db3",
   "metadata": {},
   "source": [
    "   <p style=\"color:red;\"> # Creating a class\n",
    "\n",
    "Calss Vehicle:\n",
    "    \n",
    "    def __init__(self,make,model,year):\n",
    "        self.make=make\n",
    "        self.model=model\n",
    "        self.year=year\n",
    "v = Vehicle(\"Honda\",\"civic\",2017)"
   ]
  },
  {
   "cell_type": "code",
   "execution_count": 6,
   "id": "feeb7698",
   "metadata": {},
   "outputs": [
    {
     "name": "stdout",
     "output_type": "stream",
     "text": [
      "A New user has been made!\n",
      "A New user has been made!\n",
      "A New user has been made!\n",
      "A New user has been made!\n"
     ]
    }
   ],
   "source": [
    "class User:\n",
    "    def __init__(self):\n",
    "        print(\"A New user has been made!\")\n",
    "        \n",
    "user1=User()\n",
    "user2=User()\n",
    "user3=User()\n",
    "user4=User()\n",
    "\n",
    "#this is the proof that we are not calling the __init__ method . T\n",
    "#This is getting called by default when we are creating instance(object)\n",
    "\n",
    "\n",
    "#the \"Self\" keyword refers to the current class instance. its not mandatory to name it as self it can be named anything .\n",
    "#but as per the standard we have to to name it as self.\n",
    "\n",
    "\n",
    "#self will be the first parameter in all the methods we define in any class we create . \n",
    "#So this is applicable for all classes not only for __init__"
   ]
  },
  {
   "cell_type": "markdown",
   "id": "f375e76f",
   "metadata": {},
   "source": [
    "# unnderscores \n",
    "### types :\n",
    "    * \\_name       #single underscore in frunt\n",
    "    * \\__name      #double underscore in frunt\n",
    "    * \\__name__ #double underscore in frunt & back\n",
    "    \n",
    "    \n",
    "    \n",
    "#### _name : \n",
    "As python don't support the private and public variables . _ single underscore in frunt is an indication that this is private variable.\n",
    "\n",
    "#### __name:\n",
    "its a name mangling , for which python will put the calss name first and helps using in the inheritance\n",
    "\n",
    "#### '\\__name__':  #double underscore in frunt & back\n",
    "you can define any function with double underscore but its a convention we should not use it . this is applicable for only default functions like '\\__init__'\n"
   ]
  },
  {
   "cell_type": "code",
   "execution_count": 12,
   "id": "7f6564f3",
   "metadata": {},
   "outputs": [
    {
     "name": "stdout",
     "output_type": "stream",
     "text": [
      "Joe\n",
      "HI!!\n",
      "['_Person__msg', '__class__', '__delattr__', '__dict__', '__dir__', '__doc__', '__eq__', '__format__', '__ge__', '__getattribute__', '__gt__', '__hash__', '__init__', '__init_subclass__', '__le__', '__lt__', '__module__', '__ne__', '__new__', '__reduce__', '__reduce_ex__', '__repr__', '__setattr__', '__sizeof__', '__str__', '__subclasshook__', '__weakref__', '_secret', 'name']\n",
      "Happy cycling :)\n"
     ]
    }
   ],
   "source": [
    "class Person:\n",
    "    def __init__(self):\n",
    "        self.name=\"Joe\"\n",
    "        self._secret=\"HI!!\"\n",
    "        self.__msg=\"Happy cycling :)\"\n",
    "        \n",
    "p=Person()\n",
    "print(p.name)\n",
    "print(p._secret)\n",
    "#print(p.__msg)\n",
    "\n",
    "#print(dir(p))  \n",
    "#dir() is a powerful inbuilt function in Python3, \n",
    "#which returns list of the attributes and methods of any object (say functions , modules, strings, lists, dictionaries etc.)\n",
    "\n",
    "print(p._Person__msg)"
   ]
  },
  {
   "cell_type": "code",
   "execution_count": null,
   "id": "9263bea5",
   "metadata": {},
   "outputs": [],
   "source": []
  }
 ],
 "metadata": {
  "kernelspec": {
   "display_name": "Python 3 (ipykernel)",
   "language": "python",
   "name": "python3"
  },
  "language_info": {
   "codemirror_mode": {
    "name": "ipython",
    "version": 3
   },
   "file_extension": ".py",
   "mimetype": "text/x-python",
   "name": "python",
   "nbconvert_exporter": "python",
   "pygments_lexer": "ipython3",
   "version": "3.9.13"
  }
 },
 "nbformat": 4,
 "nbformat_minor": 5
}
